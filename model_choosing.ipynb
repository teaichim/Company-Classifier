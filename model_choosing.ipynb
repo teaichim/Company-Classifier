{
 "cells": [
  {
   "cell_type": "code",
   "execution_count": 1,
   "id": "4113064d-b3c6-4fed-9f0f-9ea27f43588c",
   "metadata": {},
   "outputs": [],
   "source": [
    "import numpy as np\n",
    "import pandas as pd\n",
    "import matplotlib.pyplot as plt\n",
    "import seaborn as sns\n",
    "import fasttext\n",
    "from sklearn.metrics import accuracy_score, precision_recall_fscore_support"
   ]
  },
  {
   "cell_type": "markdown",
   "id": "c0656947-617a-4e39-9c45-762db24b8f7d",
   "metadata": {},
   "source": [
    "## Model Training\n",
    "\n",
    "In this step we'll train the model using diffenernt parametres to chose the better obion"
   ]
  },
  {
   "cell_type": "code",
   "execution_count": 2,
   "id": "a7686144-9abc-49be-a2ff-bebf5bd6c419",
   "metadata": {},
   "outputs": [],
   "source": [
    "model = fasttext.train_supervised(\n",
    "    input=\"data/test_data.txt\",\n",
    "    lr=0.1,  \n",
    "    epoch=5,\n",
    "    wordNgrams=2,\n",
    "    bucket=200000,\n",
    "    dim=50,\n",
    "    loss=\"ova\"\n",
    ")"
   ]
  },
  {
   "cell_type": "code",
   "execution_count": 3,
   "id": "7e6c675f-f9c5-482c-8e77-da34ea7e7841",
   "metadata": {},
   "outputs": [
    {
     "data": {
      "text/plain": [
       "(757, 0.6446499339498019, 0.22878574777308955)"
      ]
     },
     "execution_count": 3,
     "metadata": {},
     "output_type": "execute_result"
    }
   ],
   "source": [
    "model.test(\"data/val_data.txt\")"
   ]
  },
  {
   "cell_type": "code",
   "execution_count": 4,
   "id": "7a56db63-42b5-464c-bc49-bd0982d1d6f1",
   "metadata": {},
   "outputs": [],
   "source": [
    "model2 = fasttext.train_supervised(\n",
    "    input=\"data/test_data.txt\",\n",
    "    lr=0.1,  \n",
    "    epoch=10,\n",
    "    wordNgrams=3,\n",
    "    bucket=200000,\n",
    "    dim=50,\n",
    "    loss=\"ova\"\n",
    ")"
   ]
  },
  {
   "cell_type": "code",
   "execution_count": 5,
   "id": "d3944878-d931-4c56-af07-f7cae0da7500",
   "metadata": {},
   "outputs": [
    {
     "data": {
      "text/plain": [
       "(757, 0.7278731836195509, 0.2583216127519925)"
      ]
     },
     "execution_count": 5,
     "metadata": {},
     "output_type": "execute_result"
    }
   ],
   "source": [
    "model2.test(\"data/val_data.txt\")"
   ]
  },
  {
   "cell_type": "code",
   "execution_count": 8,
   "id": "4d0e5183-2a43-416c-9e45-ec4cd6295fcd",
   "metadata": {},
   "outputs": [],
   "source": [
    "model3 = fasttext.train_supervised(\n",
    "    input=\"data/test_data.txt\",\n",
    "    lr=0.1,  \n",
    "    epoch=50,\n",
    "    wordNgrams=3,\n",
    "    bucket=200000,\n",
    "    dim=50,\n",
    "    loss=\"ova\"\n",
    ")"
   ]
  },
  {
   "cell_type": "code",
   "execution_count": 9,
   "id": "596f9465-330f-4f1b-b16c-3dcbfc226fa5",
   "metadata": {},
   "outputs": [
    {
     "data": {
      "text/plain": [
       "(757, 0.869220607661823, 0.30848570089076416)"
      ]
     },
     "execution_count": 9,
     "metadata": {},
     "output_type": "execute_result"
    }
   ],
   "source": [
    "model3.test(\"data/val_data.txt\")"
   ]
  },
  {
   "cell_type": "code",
   "execution_count": 16,
   "id": "69ef1e44-e0f6-4893-9b9f-8c9f54aea6fa",
   "metadata": {},
   "outputs": [],
   "source": [
    "model5 = fasttext.train_supervised(\n",
    "    input=\"data/test_data.txt\",\n",
    "    lr=0.1,  \n",
    "    epoch=100,\n",
    "    wordNgrams=3,\n",
    "    bucket=200000,\n",
    "    dim=50,\n",
    "    loss=\"ova\"\n",
    ")"
   ]
  },
  {
   "cell_type": "code",
   "execution_count": 17,
   "id": "0f852364-c488-4036-9298-35f559251455",
   "metadata": {},
   "outputs": [
    {
     "data": {
      "text/plain": [
       "(757, 0.892998678996037, 0.316924519456165)"
      ]
     },
     "execution_count": 17,
     "metadata": {},
     "output_type": "execute_result"
    }
   ],
   "source": [
    "model5.test(\"data/val_data.txt\")"
   ]
  },
  {
   "cell_type": "code",
   "execution_count": 32,
   "id": "22b2dc4c-50eb-416f-b326-f72414640331",
   "metadata": {},
   "outputs": [],
   "source": [
    "model6 = fasttext.train_supervised(\n",
    "    input=\"data/test_data.txt\",\n",
    "    lr=0.1,  \n",
    "    epoch=200,\n",
    "    wordNgrams=3,\n",
    "    bucket=200000,\n",
    "    dim=50,\n",
    "    loss=\"ova\"\n",
    ")"
   ]
  },
  {
   "cell_type": "code",
   "execution_count": 19,
   "id": "1c822967-f8d7-473d-96cf-78dc9baa7b24",
   "metadata": {},
   "outputs": [
    {
     "data": {
      "text/plain": [
       "(757, 0.9009247027741083, 0.3197374589779653)"
      ]
     },
     "execution_count": 19,
     "metadata": {},
     "output_type": "execute_result"
    }
   ],
   "source": [
    "model6.test(\"data/val_data.txt\")"
   ]
  },
  {
   "cell_type": "code",
   "execution_count": 23,
   "id": "60b9c205-4f4f-4bc9-8deb-64cc951f616c",
   "metadata": {},
   "outputs": [],
   "source": [
    "model7 = fasttext.train_supervised(\n",
    "    input=\"data/test_data.txt\",\n",
    "    lr=0.1,  \n",
    "    epoch=250,\n",
    "    wordNgrams=3,\n",
    "    bucket=200000,\n",
    "    dim=50,\n",
    "    loss=\"ova\"\n",
    ")"
   ]
  },
  {
   "cell_type": "code",
   "execution_count": 24,
   "id": "671af6da-e6f9-4560-bffb-280efc2194c7",
   "metadata": {},
   "outputs": [
    {
     "data": {
      "text/plain": [
       "(757, 0.8863936591809776, 0.3145804031879981)"
      ]
     },
     "execution_count": 24,
     "metadata": {},
     "output_type": "execute_result"
    }
   ],
   "source": [
    "model7.test(\"data/val_data.txt\")"
   ]
  },
  {
   "cell_type": "code",
   "execution_count": 27,
   "id": "6189067d-4862-4234-b9df-da481b7d66b3",
   "metadata": {},
   "outputs": [],
   "source": [
    "model8 = fasttext.train_supervised(\n",
    "    input=\"data/test_data.txt\",\n",
    "    lr=0.05,  \n",
    "    epoch=200,\n",
    "    wordNgrams=3,\n",
    "    bucket=200000,\n",
    "    dim=50,\n",
    "    loss=\"ova\"\n",
    ")"
   ]
  },
  {
   "cell_type": "code",
   "execution_count": 28,
   "id": "1346722b-85ee-4ed8-846c-a362667c5c82",
   "metadata": {},
   "outputs": [
    {
     "data": {
      "text/plain": [
       "(757, 0.8956406869220608, 0.3178621659634318)"
      ]
     },
     "execution_count": 28,
     "metadata": {},
     "output_type": "execute_result"
    }
   ],
   "source": [
    "model8.test(\"data/val_data.txt\")"
   ]
  },
  {
   "cell_type": "code",
   "execution_count": 29,
   "id": "ed870896-1e83-4e6b-8a85-7fe97580cbba",
   "metadata": {},
   "outputs": [],
   "source": [
    "model9 = fasttext.train_supervised(\n",
    "    input=\"data/test_data.txt\",\n",
    "    lr=0.15,  \n",
    "    epoch=200,\n",
    "    wordNgrams=3,\n",
    "    bucket=200000,\n",
    "    dim=50,\n",
    "    loss=\"ova\"\n",
    ")"
   ]
  },
  {
   "cell_type": "code",
   "execution_count": 30,
   "id": "e8bf7c66-e9fd-4823-91ed-8f8e7609ccca",
   "metadata": {},
   "outputs": [
    {
     "data": {
      "text/plain": [
       "(757, 0.8797886393659181, 0.31223628691983124)"
      ]
     },
     "execution_count": 30,
     "metadata": {},
     "output_type": "execute_result"
    }
   ],
   "source": [
    "model9.test(\"data/val_data.txt\")"
   ]
  },
  {
   "cell_type": "code",
   "execution_count": 33,
   "id": "c308992c-ecc3-40aa-a612-d1f45f884f20",
   "metadata": {},
   "outputs": [],
   "source": [
    "model10 = fasttext.train_supervised(\n",
    "    input=\"data/test_data.txt\",\n",
    "    lr=0.1,  \n",
    "    epoch=200,\n",
    "    wordNgrams=2,\n",
    "    bucket=200000,\n",
    "    dim=50,\n",
    "    loss=\"ova\"\n",
    ")"
   ]
  },
  {
   "cell_type": "code",
   "execution_count": 34,
   "id": "e657086e-409d-4180-b1fa-d6ee1fe24c86",
   "metadata": {},
   "outputs": [
    {
     "data": {
      "text/plain": [
       "(757, 0.8890356671070013, 0.31551804969526487)"
      ]
     },
     "execution_count": 34,
     "metadata": {},
     "output_type": "execute_result"
    }
   ],
   "source": [
    "model10.test(\"data/val_data.txt\")"
   ]
  },
  {
   "cell_type": "code",
   "execution_count": 42,
   "id": "8f988e3d-78cc-4981-9d94-b59e150bcb8b",
   "metadata": {},
   "outputs": [],
   "source": [
    "models = {\n",
    "    \"Model1\": model.test(\"data/val_data.txt\"),\n",
    "    \"Model2\": model2.test(\"data/val_data.txt\"),\n",
    "    \"Model3\": model3.test(\"data/val_data.txt\"),\n",
    "    \"Model5\": model5.test(\"data/val_data.txt\"),\n",
    "    \"Model6\": model6.test(\"data/val_data.txt\"),\n",
    "    \"Model7\": model7.test(\"data/val_data.txt\"),\n",
    "    \"Model8\": model8.test(\"data/val_data.txt\"),\n",
    "    \"Model9\": model9.test(\"data/val_data.txt\"),\n",
    "    \"Model10\": model10.test(\"data/val_data.txt\")\n",
    "}"
   ]
  },
  {
   "cell_type": "code",
   "execution_count": 43,
   "id": "e2ad3e07-47ce-4537-b0c4-d978233546da",
   "metadata": {},
   "outputs": [],
   "source": [
    "results = []\n",
    "for name, (rows_no, accuracy, recall) in models.items():\n",
    "    results.append({\"Model\": name, \"Accuracy\": accuracy * 100, \"Recall\": recall * 100}) "
   ]
  },
  {
   "cell_type": "code",
   "execution_count": 44,
   "id": "2a8cd342-e4a9-42df-8f2b-f1ee872b4d9a",
   "metadata": {},
   "outputs": [
    {
     "data": {
      "image/png": "[encoded data removed]",
      "text/plain": [
       "<Figure size 1200x600 with 1 Axes>"
      ]
     },
     "metadata": {},
     "output_type": "display_data"
    }
   ],
   "source": [
    "df = pd.DataFrame(results)\n",
    "\n",
    "sns.set_style(\"whitegrid\")\n",
    "\n",
    "fig, ax = plt.subplots(figsize=(12, 6))\n",
    "\n",
    "df_melted = df.melt(id_vars=\"Model\", var_name=\"Metric\", value_name=\"Value\")\n",
    "sns.barplot(data=df_melted, x=\"Model\", y=\"Value\", hue=\"Metric\", palette=\"Paired\", ax=ax)\n",
    "\n",
    "ax.set_title(\"Compararea Acurateței și Recall-ului pentru Modele\", fontsize=14)\n",
    "ax.set_ylabel(\"Valoare (%)\")\n",
    "plt.xticks(rotation=20)\n",
    "plt.show()"
   ]
  },
  {
   "cell_type": "code",
   "execution_count": 45,
   "id": "de6d9866-40b6-458c-a89e-1b246f20c7a6",
   "metadata": {},
   "outputs": [
    {
     "data": {
      "text/plain": [
       "{'Model1': (757, 0.6446499339498019, 0.22878574777308955),\n",
       " 'Model2': (757, 0.7278731836195509, 0.2583216127519925),\n",
       " 'Model3': (757, 0.869220607661823, 0.30848570089076416),\n",
       " 'Model5': (757, 0.892998678996037, 0.316924519456165),\n",
       " 'Model6': (757, 0.904887714663144, 0.32114392873886544),\n",
       " 'Model7': (757, 0.8863936591809776, 0.3145804031879981),\n",
       " 'Model8': (757, 0.8956406869220608, 0.3178621659634318),\n",
       " 'Model9': (757, 0.8797886393659181, 0.31223628691983124),\n",
       " 'Model10': (757, 0.8890356671070013, 0.31551804969526487)}"
      ]
     },
     "execution_count": 45,
     "metadata": {},
     "output_type": "execute_result"
    }
   ],
   "source": [
    "models"
   ]
  },
  {
   "cell_type": "code",
   "execution_count": 46,
   "id": "c7cdb46e-fcd4-4fef-954a-17426fe17a56",
   "metadata": {},
   "outputs": [],
   "source": [
    "model6.save_model(\"fasttext_model.bin\")"
   ]
  },
  {
   "cell_type": "markdown",
   "id": "9eab8f1a-978d-4055-ab84-04c3c3ffa155",
   "metadata": {},
   "source": [
    "## Conclusion\n",
    "\n",
    "In conclusion, based on an accuracy of 90.49% and a recall of 32.11%, the best model to work with at the moment is Model6."
   ]
  }
 ],
 "metadata": {
  "kernelspec": {
   "display_name": "Python 3 (ipykernel)",
   "language": "python",
   "name": "python3"
  },
  "language_info": {
   "codemirror_mode": {
    "name": "ipython",
    "version": 3
   },
   "file_extension": ".py",
   "mimetype": "text/x-python",
   "name": "python",
   "nbconvert_exporter": "python",
   "pygments_lexer": "ipython3",
   "version": "3.11.9"
  }
 },
 "nbformat": 4,
 "nbformat_minor": 5
}
